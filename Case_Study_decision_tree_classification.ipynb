{
  "nbformat": 4,
  "nbformat_minor": 0,
  "metadata": {
    "colab": {
      "name": "Case_Study decision_tree_classification.ipynb",
      "provenance": [],
      "collapsed_sections": [],
      "machine_shape": "hm"
    },
    "kernelspec": {
      "name": "python3",
      "display_name": "Python 3"
    }
  },
  "cells": [
    {
      "cell_type": "markdown",
      "metadata": {
        "id": "0MRC0e0KhQ0S"
      },
      "source": [
        "# Decision Tree Classification"
      ]
    },
    {
      "cell_type": "markdown",
      "metadata": {
        "id": "LWd1UlMnhT2s"
      },
      "source": [
        "## Importing the libraries"
      ]
    },
    {
      "cell_type": "code",
      "metadata": {
        "id": "YvGPUQaHhXfL"
      },
      "source": [
        "import numpy as np\n",
        "import matplotlib.pyplot as plt\n",
        "import pandas as pd"
      ],
      "execution_count": null,
      "outputs": []
    },
    {
      "cell_type": "markdown",
      "metadata": {
        "id": "K1VMqkGvhc3-"
      },
      "source": [
        "## Importing the dataset"
      ]
    },
    {
      "cell_type": "code",
      "metadata": {
        "id": "M52QDmyzhh9s"
      },
      "source": [
        "dataset = pd.read_csv('df_patients_v20220321 - df_patients_v20220321.csv')\n",
        "X = dataset.drop(columns=['DocID','PtID','P8','P9'])\n",
        "X = X.iloc[:,:].values\n",
        "y = dataset.iloc[:, 9].values"
      ],
      "execution_count": null,
      "outputs": []
    },
    {
      "cell_type": "markdown",
      "source": [
        "## Encoding categorical data\n"
      ],
      "metadata": {
        "id": "4UhmTFyMEp3P"
      }
    },
    {
      "cell_type": "markdown",
      "source": [
        "### Encoding the Independent Variable"
      ],
      "metadata": {
        "id": "wvxJrgRlEx7I"
      }
    },
    {
      "cell_type": "code",
      "source": [
        "from sklearn.compose import ColumnTransformer\n",
        "from sklearn.preprocessing import OneHotEncoder\n",
        "ct = ColumnTransformer(transformers=[('encoder', OneHotEncoder(), [0])], remainder='passthrough')\n",
        "X = np.array(ct.fit_transform(X))"
      ],
      "metadata": {
        "id": "JY_9B_EhExZJ"
      },
      "execution_count": null,
      "outputs": []
    },
    {
      "cell_type": "code",
      "source": [
        "ct = ColumnTransformer(transformers=[('encoder', OneHotEncoder(), [2])], remainder='passthrough')\n",
        "X = np.array(ct.fit_transform(X))"
      ],
      "metadata": {
        "id": "WG1xRALlEpYE"
      },
      "execution_count": null,
      "outputs": []
    },
    {
      "cell_type": "code",
      "source": [
        "ct = ColumnTransformer(transformers=[('encoder', OneHotEncoder(), [4])], remainder='passthrough')\n",
        "X = np.array(ct.fit_transform(X))"
      ],
      "metadata": {
        "id": "9Ktrsr3IE7Iq"
      },
      "execution_count": null,
      "outputs": []
    },
    {
      "cell_type": "code",
      "source": [
        "ct = ColumnTransformer(transformers=[('encoder', OneHotEncoder(), [11])], remainder='passthrough')\n",
        "X = np.array(ct.fit_transform(X))"
      ],
      "metadata": {
        "id": "1WQZW9ORE7zI"
      },
      "execution_count": null,
      "outputs": []
    },
    {
      "cell_type": "code",
      "source": [
        "ct = ColumnTransformer(transformers=[('encoder', OneHotEncoder(), [-1])], remainder='passthrough')\n",
        "X = np.array(ct.fit_transform(X))"
      ],
      "metadata": {
        "id": "_kYnZ7XrE_lj"
      },
      "execution_count": null,
      "outputs": []
    },
    {
      "cell_type": "markdown",
      "metadata": {
        "id": "YvxIPVyMhmKp"
      },
      "source": [
        "## Splitting the dataset into the Training set and Test set"
      ]
    },
    {
      "cell_type": "code",
      "metadata": {
        "id": "AVzJWAXIhxoC"
      },
      "source": [
        "from sklearn.model_selection import train_test_split\n",
        "X_train, X_test, y_train, y_test = train_test_split(X, y, test_size = 0.25, random_state = 0)"
      ],
      "execution_count": null,
      "outputs": []
    },
    {
      "cell_type": "code",
      "metadata": {
        "id": "P3nS3-6r1i2B",
        "outputId": "cf9eb4d7-52ec-4548-d0eb-ebef14cb3ae6",
        "colab": {
          "base_uri": "https://localhost:8080/"
        }
      },
      "source": [
        "print(X_train)"
      ],
      "execution_count": null,
      "outputs": [
        {
          "output_type": "stream",
          "name": "stdout",
          "text": [
            "[[0.0 0.0 1.0 ... 2 25 7]\n",
            " [1.0 0.0 0.0 ... 1 34 13]\n",
            " [0.0 0.0 1.0 ... 2 24 5]\n",
            " ...\n",
            " [0.0 0.0 1.0 ... 1 25 6]\n",
            " [1.0 0.0 0.0 ... 1 26 13]\n",
            " [0.0 0.0 1.0 ... 1 18 4]]\n"
          ]
        }
      ]
    },
    {
      "cell_type": "code",
      "metadata": {
        "id": "8dpDLojm1mVG",
        "outputId": "1e11b428-971a-45bc-9405-70b0ac80b767",
        "colab": {
          "base_uri": "https://localhost:8080/"
        }
      },
      "source": [
        "print(y_train)"
      ],
      "execution_count": null,
      "outputs": [
        {
          "output_type": "stream",
          "name": "stdout",
          "text": [
            "['A' 'D' 'A' ... 'D' 'D' 'D']\n"
          ]
        }
      ]
    },
    {
      "cell_type": "code",
      "metadata": {
        "id": "qbb7i0DH1qui",
        "outputId": "81a07386-7cd1-4d29-8480-688ccba31d88",
        "colab": {
          "base_uri": "https://localhost:8080/"
        }
      },
      "source": [
        "print(X_test)"
      ],
      "execution_count": null,
      "outputs": [
        {
          "output_type": "stream",
          "name": "stdout",
          "text": [
            "[[0.0 1.0 0.0 ... 1 20 7]\n",
            " [0.0 1.0 0.0 ... 1 21 7]\n",
            " [0.0 1.0 0.0 ... 1 22 7]\n",
            " ...\n",
            " [0.0 0.0 0.0 ... 2 20 6]\n",
            " [0.0 0.0 1.0 ... 1 26 9]\n",
            " [0.0 0.0 0.0 ... 3 28 12]]\n"
          ]
        }
      ]
    },
    {
      "cell_type": "code",
      "metadata": {
        "id": "kj1hnFAR1s5w",
        "outputId": "dc5c7b15-1feb-47de-812e-46d2c04c39a6",
        "colab": {
          "base_uri": "https://localhost:8080/"
        }
      },
      "source": [
        "print(y_test)"
      ],
      "execution_count": null,
      "outputs": [
        {
          "output_type": "stream",
          "name": "stdout",
          "text": [
            "['A' 'A' 'A' 'D' 'D' 'D' 'D' 'D' 'D' 'D' 'D' 'A' 'A' 'D' 'D' 'A' 'D' 'D'\n",
            " 'A' 'A' 'A' 'D' 'D' 'A' 'D' 'A' 'D' 'D' 'A' 'A' 'A' 'A' 'D' 'D' 'D' 'A'\n",
            " 'D' 'A' 'D' 'A' 'A' 'A' 'A' 'A' 'D' 'A' 'A' 'A' 'A' 'D' 'A' 'A' 'D' 'D'\n",
            " 'D' 'A' 'D' 'D' 'A' 'D' 'D' 'A' 'D' 'D' 'D' 'A' 'D' 'D' 'A' 'A' 'D' 'D'\n",
            " 'A' 'D' 'A' 'D' 'A' 'D' 'A' 'A' 'A' 'A' 'D' 'A' 'A' 'A' 'D' 'A' 'A' 'D'\n",
            " 'D' 'D' 'D' 'D' 'A' 'D' 'D' 'A' 'A' 'D' 'A' 'D' 'A' 'D' 'A' 'D' 'A' 'A'\n",
            " 'D' 'D' 'D' 'A' 'D' 'D' 'A' 'A' 'A' 'D' 'D' 'A' 'A' 'A' 'D' 'A' 'D' 'D'\n",
            " 'D' 'A' 'D' 'A' 'A' 'D' 'D' 'A' 'D' 'D' 'D' 'A' 'A' 'D' 'D' 'A' 'A' 'D'\n",
            " 'D' 'D' 'A' 'D' 'D' 'A' 'A' 'D' 'A' 'A' 'A' 'A' 'A' 'D' 'A' 'D' 'D' 'A'\n",
            " 'D' 'A' 'A' 'A' 'D' 'D' 'A' 'A' 'D' 'D' 'A' 'A' 'A' 'D' 'D' 'D' 'D' 'A'\n",
            " 'D' 'A' 'D' 'D' 'A' 'D' 'D' 'A' 'A' 'A' 'D' 'A' 'A' 'D' 'D' 'D' 'D' 'D'\n",
            " 'D' 'D' 'D' 'A' 'A' 'A' 'A' 'A' 'A' 'A' 'D' 'D' 'A' 'A' 'A' 'A' 'D' 'D'\n",
            " 'D' 'A' 'A' 'A' 'D' 'D' 'A' 'A' 'A' 'D' 'A' 'D' 'D' 'A' 'D' 'A' 'A' 'A'\n",
            " 'D' 'D' 'A' 'D' 'A' 'D' 'D' 'A' 'A' 'A' 'D' 'A' 'D' 'D' 'A' 'D' 'A' 'D'\n",
            " 'A' 'D' 'A' 'D' 'A' 'D' 'D' 'A' 'A' 'D' 'A' 'A' 'D' 'D' 'A' 'A' 'A' 'A'\n",
            " 'A' 'D' 'A' 'A' 'A' 'D' 'A' 'D' 'A' 'A' 'A' 'D' 'D' 'D' 'A' 'D' 'D' 'A'\n",
            " 'A' 'D' 'A' 'D' 'A' 'A' 'A' 'A' 'A' 'A' 'D' 'A' 'A' 'A' 'A' 'D' 'A' 'A'\n",
            " 'D' 'D' 'D' 'A' 'D' 'D' 'D' 'D' 'A' 'A' 'D' 'A' 'A' 'A' 'A' 'D' 'A' 'A'\n",
            " 'D' 'D' 'A' 'A' 'A' 'A' 'A' 'A' 'A' 'A' 'D' 'A' 'A' 'D' 'A' 'D' 'D' 'A'\n",
            " 'A' 'A' 'D' 'D' 'A' 'D' 'D' 'A' 'A' 'D' 'D' 'D' 'D' 'A' 'A' 'A' 'D' 'A'\n",
            " 'A' 'D' 'D' 'A' 'D' 'A' 'A' 'D' 'D' 'A' 'A' 'A' 'D' 'A' 'D' 'A' 'D' 'D'\n",
            " 'A' 'D' 'D' 'A' 'A' 'D' 'D' 'A' 'A' 'D' 'A' 'A' 'A' 'D' 'D' 'D' 'D' 'A'\n",
            " 'A' 'D' 'A' 'A' 'A' 'D' 'D' 'D' 'A' 'A' 'D' 'A' 'A' 'A' 'A' 'D' 'D' 'A'\n",
            " 'A' 'D' 'D' 'A' 'A' 'D' 'D' 'A' 'D' 'A' 'D' 'D' 'A' 'D' 'A' 'D' 'A' 'D'\n",
            " 'A' 'A' 'D' 'A' 'A' 'A' 'A' 'A' 'A' 'D' 'D' 'A' 'D' 'A' 'D' 'A' 'D' 'A'\n",
            " 'D' 'A' 'D' 'A' 'D' 'A' 'A' 'D' 'D' 'A' 'A' 'D' 'A' 'A' 'A' 'A' 'A' 'D'\n",
            " 'A' 'A' 'A' 'D' 'D' 'A' 'D' 'D' 'A' 'D' 'A' 'A' 'D' 'D' 'D' 'A' 'A' 'A'\n",
            " 'D' 'A' 'A' 'A' 'D' 'A' 'A' 'A' 'D' 'A' 'A' 'A' 'D' 'D' 'A' 'A' 'A' 'D'\n",
            " 'A' 'A' 'A' 'A' 'D' 'A' 'D' 'D' 'A' 'D' 'D' 'A' 'D' 'A' 'D' 'A' 'D' 'A'\n",
            " 'A' 'D' 'A' 'A' 'A' 'D' 'D']\n"
          ]
        }
      ]
    },
    {
      "cell_type": "markdown",
      "metadata": {
        "id": "kW3c7UYih0hT"
      },
      "source": [
        "## Feature Scaling"
      ]
    },
    {
      "cell_type": "code",
      "metadata": {
        "id": "9fQlDPKCh8sc"
      },
      "source": [
        "from sklearn.preprocessing import StandardScaler\n",
        "sc = StandardScaler()\n",
        "X_trainTransformed = sc.fit_transform(X_train[:, -3:])\n",
        "X_train = np.concatenate([X_train[:,:-3], X_trainTransformed], axis=1)\n",
        "X_testTransformed = sc.transform(X_test[:, -3:])\n",
        "X_test = np.concatenate([X_test[:,:-3], X_testTransformed], axis=1)"
      ],
      "execution_count": null,
      "outputs": []
    },
    {
      "cell_type": "code",
      "metadata": {
        "id": "syrnD1Op2BSR",
        "outputId": "09106dec-dd60-4c18-ab81-e59c9832ea49",
        "colab": {
          "base_uri": "https://localhost:8080/"
        }
      },
      "source": [
        "print(X_train)"
      ],
      "execution_count": null,
      "outputs": [
        {
          "output_type": "stream",
          "name": "stdout",
          "text": [
            "[[0.0 0.0 1.0 ... 0.08291977940922753 0.456406770035258\n",
            "  -0.19541820104301294]\n",
            " [1.0 0.0 0.0 ... -1.0493641049374645 2.639807747760975\n",
            "  2.0129701256071595]\n",
            " [0.0 0.0 1.0 ... 0.08291977940922753 0.21380666139906718\n",
            "  -0.931547643259737]\n",
            " ...\n",
            " [0.0 0.0 1.0 ... -1.0493641049374645 0.456406770035258\n",
            "  -0.563482922151375]\n",
            " [1.0 0.0 0.0 ... -1.0493641049374645 0.6990068786714487\n",
            "  2.0129701256071595]\n",
            " [0.0 0.0 1.0 ... -1.0493641049374645 -1.2417939904180775\n",
            "  -1.2996123643680992]]\n"
          ]
        }
      ]
    },
    {
      "cell_type": "code",
      "metadata": {
        "id": "JUd6iBRp2C3L",
        "outputId": "1f8145df-a36b-4662-80b2-5f1d47d8ee20",
        "colab": {
          "base_uri": "https://localhost:8080/"
        }
      },
      "source": [
        "print(X_test)"
      ],
      "execution_count": null,
      "outputs": [
        {
          "output_type": "stream",
          "name": "stdout",
          "text": [
            "[[0.0 1.0 0.0 ... -1.0493641049374645 -0.756593773145696\n",
            "  -0.19541820104301294]\n",
            " [0.0 1.0 0.0 ... -1.0493641049374645 -0.5139936645095051\n",
            "  -0.19541820104301294]\n",
            " [0.0 1.0 0.0 ... -1.0493641049374645 -0.2713935558733144\n",
            "  -0.19541820104301294]\n",
            " ...\n",
            " [0.0 0.0 0.0 ... 0.08291977940922753 -0.756593773145696\n",
            "  -0.563482922151375]\n",
            " [0.0 0.0 1.0 ... -1.0493641049374645 0.6990068786714487\n",
            "  0.5407112411737112]\n",
            " [0.0 0.0 0.0 ... 1.2152036637559194 1.1842070959438302\n",
            "  1.6449054044987974]]\n"
          ]
        }
      ]
    },
    {
      "cell_type": "markdown",
      "metadata": {
        "id": "bb6jCOCQiAmP"
      },
      "source": [
        "## Training the Decision Tree Classification model on the Training set"
      ]
    },
    {
      "cell_type": "code",
      "metadata": {
        "id": "e0pFVAmciHQs",
        "outputId": "9f193fc2-1cd7-45e9-8a18-f00aee126a80",
        "colab": {
          "base_uri": "https://localhost:8080/"
        }
      },
      "source": [
        "from sklearn.tree import DecisionTreeClassifier\n",
        "classifier = DecisionTreeClassifier(criterion = 'gini', random_state = 0, max_depth=4, min_samples_leaf=4)\n",
        "classifier.fit(X_train, y_train)"
      ],
      "execution_count": null,
      "outputs": [
        {
          "output_type": "execute_result",
          "data": {
            "text/plain": [
              "DecisionTreeClassifier(max_depth=4, min_samples_leaf=4, random_state=0)"
            ]
          },
          "metadata": {},
          "execution_count": 40
        }
      ]
    },
    {
      "cell_type": "markdown",
      "metadata": {
        "id": "vKYVQH-l5NpE"
      },
      "source": [
        "## Predicting the Test set results"
      ]
    },
    {
      "cell_type": "code",
      "metadata": {
        "id": "p6VMTb2O4hwM",
        "outputId": "320574da-dac8-4d30-84e2-09b0421729b0",
        "colab": {
          "base_uri": "https://localhost:8080/"
        }
      },
      "source": [
        "y_pred = classifier.predict(X_test)\n",
        "print(np.concatenate((y_pred.reshape(len(y_pred),1), y_test.reshape(len(y_test),1)),1))"
      ],
      "execution_count": null,
      "outputs": [
        {
          "output_type": "stream",
          "name": "stdout",
          "text": [
            "[['A' 'A']\n",
            " ['A' 'A']\n",
            " ['A' 'A']\n",
            " ...\n",
            " ['A' 'A']\n",
            " ['D' 'D']\n",
            " ['D' 'D']]\n"
          ]
        }
      ]
    },
    {
      "cell_type": "markdown",
      "metadata": {
        "id": "h4Hwj34ziWQW"
      },
      "source": [
        "## Making the Confusion Matrix"
      ]
    },
    {
      "cell_type": "code",
      "metadata": {
        "id": "D6bpZwUiiXic",
        "outputId": "d3aa78a4-70aa-40ae-e4ac-ce8b94e49d9c",
        "colab": {
          "base_uri": "https://localhost:8080/"
        }
      },
      "source": [
        "from sklearn.metrics import confusion_matrix, accuracy_score\n",
        "cm = confusion_matrix(y_test, y_pred)\n",
        "print(cm)\n",
        "accuracy_score(y_test, y_pred)"
      ],
      "execution_count": null,
      "outputs": [
        {
          "output_type": "stream",
          "name": "stdout",
          "text": [
            "[[257  30]\n",
            " [134 108]]\n"
          ]
        },
        {
          "output_type": "execute_result",
          "data": {
            "text/plain": [
              "0.6899810964083176"
            ]
          },
          "metadata": {},
          "execution_count": 42
        }
      ]
    },
    {
      "cell_type": "code",
      "source": [
        ""
      ],
      "metadata": {
        "id": "SsuLLMtMt5bb"
      },
      "execution_count": null,
      "outputs": []
    }
  ]
}