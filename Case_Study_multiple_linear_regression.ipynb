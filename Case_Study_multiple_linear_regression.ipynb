{
  "nbformat": 4,
  "nbformat_minor": 0,
  "metadata": {
    "colab": {
      "name": "Case_Study multiple_linear_regression.ipynb",
      "provenance": []
    },
    "kernelspec": {
      "name": "python3",
      "display_name": "Python 3"
    }
  },
  "cells": [
    {
      "cell_type": "markdown",
      "metadata": {
        "id": "CazISR8X_HUG"
      },
      "source": [
        "# Multiple Linear Regression"
      ]
    },
    {
      "cell_type": "markdown",
      "metadata": {
        "id": "pOyqYHTk_Q57"
      },
      "source": [
        "## Importing the libraries"
      ]
    },
    {
      "cell_type": "code",
      "metadata": {
        "id": "T_YHJjnD_Tja"
      },
      "source": [
        "import numpy as np\n",
        "import matplotlib.pyplot as plt\n",
        "import pandas as pd"
      ],
      "execution_count": 1,
      "outputs": []
    },
    {
      "cell_type": "markdown",
      "metadata": {
        "id": "vgC61-ah_WIz"
      },
      "source": [
        "## Importing the dataset"
      ]
    },
    {
      "cell_type": "code",
      "metadata": {
        "id": "UrxyEKGn_ez7"
      },
      "source": [
        "dataset = pd.read_csv('df_patients_v20220321 - df_patients_v20220321.csv')\n",
        "X = dataset.drop(columns=['DocID','PtID','P8','P9'])\n",
        "X = X.iloc[:,:].values\n",
        "y = dataset.iloc[:, 10].values"
      ],
      "execution_count": 2,
      "outputs": []
    },
    {
      "cell_type": "code",
      "metadata": {
        "id": "GOB3QhV9B5kD",
        "colab": {
          "base_uri": "https://localhost:8080/"
        },
        "outputId": "e00af5a7-0aeb-4e88-8f16-29b1c9ddccd6"
      },
      "source": [
        "print(X)"
      ],
      "execution_count": 5,
      "outputs": [
        {
          "output_type": "stream",
          "name": "stdout",
          "text": [
            "[['lt60' 'no_op' 'medical' ... 11 'M' 'cardiovascular']\n",
            " ['lt60' 'no_op' 'medical' ... 5 'M' 'cardiovascular']\n",
            " ['ge60' 'no_op' 'medical' ... 5 'F' 'cardiovascular']\n",
            " ...\n",
            " ['lt60' 'emerg' 'surgical' ... 9 'F' 'gastrointestinal']\n",
            " ['lt60' 'emerg' 'medical' ... 12 'F' 'gastrointestinal']\n",
            " ['lt60' 'emerg' 'medical' ... 13 'M' 'gastrointestinal']]\n"
          ]
        }
      ]
    },
    {
      "cell_type": "markdown",
      "metadata": {
        "id": "VadrvE7s_lS9"
      },
      "source": [
        "## Encoding categorical data"
      ]
    },
    {
      "cell_type": "markdown",
      "source": [
        "### Encoding the Independent Variable"
      ],
      "metadata": {
        "id": "rFJqwNJkpmn-"
      }
    },
    {
      "cell_type": "code",
      "metadata": {
        "id": "wV3fD1mbAvsh"
      },
      "source": [
        "from sklearn.compose import ColumnTransformer\n",
        "from sklearn.preprocessing import OneHotEncoder\n",
        "ct = ColumnTransformer(transformers=[('encoder', OneHotEncoder(), [0])], remainder='passthrough')\n",
        "X = np.array(ct.fit_transform(X))"
      ],
      "execution_count": 6,
      "outputs": []
    },
    {
      "cell_type": "code",
      "source": [
        "ct = ColumnTransformer(transformers=[('encoder', OneHotEncoder(), [2])], remainder='passthrough')\n",
        "X = np.array(ct.fit_transform(X))"
      ],
      "metadata": {
        "id": "v5NXUyAdps6r"
      },
      "execution_count": 7,
      "outputs": []
    },
    {
      "cell_type": "code",
      "source": [
        "ct = ColumnTransformer(transformers=[('encoder', OneHotEncoder(), [4])], remainder='passthrough')\n",
        "X = np.array(ct.fit_transform(X))"
      ],
      "metadata": {
        "id": "r_6Vu4yjpvqF"
      },
      "execution_count": 8,
      "outputs": []
    },
    {
      "cell_type": "code",
      "source": [
        "ct = ColumnTransformer(transformers=[('encoder', OneHotEncoder(), [11])], remainder='passthrough')\n",
        "X = np.array(ct.fit_transform(X))"
      ],
      "metadata": {
        "id": "UJe3Q4RdpyBh"
      },
      "execution_count": 9,
      "outputs": []
    },
    {
      "cell_type": "code",
      "source": [
        "ct = ColumnTransformer(transformers=[('encoder', OneHotEncoder(), [-1])], remainder='passthrough')\n",
        "X = np.array(ct.fit_transform(X))"
      ],
      "metadata": {
        "id": "0zwEmrfTp1eq"
      },
      "execution_count": 10,
      "outputs": []
    },
    {
      "cell_type": "markdown",
      "metadata": {
        "id": "WemVnqgeA70k"
      },
      "source": [
        "## Splitting the dataset into the Training set and Test set"
      ]
    },
    {
      "cell_type": "code",
      "metadata": {
        "id": "Kb_v_ae-A-20"
      },
      "source": [
        "from sklearn.model_selection import train_test_split\n",
        "X_train, X_test, y_train, y_test = train_test_split(X, y, test_size = 0.2, random_state = 0)"
      ],
      "execution_count": 11,
      "outputs": []
    },
    {
      "cell_type": "markdown",
      "metadata": {
        "id": "k-McZVsQBINc"
      },
      "source": [
        "## Training the Multiple Linear Regression model on the Training set"
      ]
    },
    {
      "cell_type": "code",
      "metadata": {
        "id": "ywPjx0L1BMiD",
        "colab": {
          "base_uri": "https://localhost:8080/"
        },
        "outputId": "26306923-b955-4b5c-d538-dee565b014cc"
      },
      "source": [
        "from sklearn.linear_model import LinearRegression\n",
        "regressor = LinearRegression()\n",
        "regressor.fit(X_train, y_train)"
      ],
      "execution_count": 12,
      "outputs": [
        {
          "output_type": "execute_result",
          "data": {
            "text/plain": [
              "LinearRegression()"
            ]
          },
          "metadata": {},
          "execution_count": 12
        }
      ]
    },
    {
      "cell_type": "markdown",
      "metadata": {
        "id": "xNkXL1YQBiBT"
      },
      "source": [
        "## Predicting the Test set results"
      ]
    },
    {
      "cell_type": "code",
      "metadata": {
        "id": "TQKmwvtdBkyb",
        "colab": {
          "base_uri": "https://localhost:8080/"
        },
        "outputId": "e71872ac-234c-4465-e808-b3cb14976342"
      },
      "source": [
        "y_pred = regressor.predict(X_test)\n",
        "np.set_printoptions(precision=2)\n",
        "print(np.concatenate((y_pred.reshape(len(y_pred),1), y_test.reshape(len(y_test),1)),1))"
      ],
      "execution_count": 13,
      "outputs": [
        {
          "output_type": "stream",
          "name": "stdout",
          "text": [
            "[[ 5.77  7.  ]\n",
            " [ 4.95  0.  ]\n",
            " [ 5.92 16.  ]\n",
            " [ 6.38  1.  ]\n",
            " [ 5.67  0.  ]\n",
            " [ 6.87 27.  ]\n",
            " [ 6.62  3.  ]\n",
            " [ 6.14  7.  ]\n",
            " [ 7.22 14.  ]\n",
            " [ 7.87  9.  ]\n",
            " [ 5.3   7.  ]\n",
            " [ 6.93  6.  ]\n",
            " [ 5.53  2.  ]\n",
            " [ 7.45  3.  ]\n",
            " [ 6.36  7.  ]\n",
            " [ 5.71  2.  ]\n",
            " [ 5.7   1.  ]\n",
            " [ 7.63  4.  ]\n",
            " [ 7.52  6.  ]\n",
            " [ 7.86  4.  ]\n",
            " [ 5.95  1.  ]\n",
            " [ 4.14  4.  ]\n",
            " [ 6.63 11.  ]\n",
            " [ 5.48  4.  ]\n",
            " [ 4.64  6.  ]\n",
            " [ 7.59  5.  ]\n",
            " [ 5.26  7.  ]\n",
            " [ 4.18  6.  ]\n",
            " [ 6.74 13.  ]\n",
            " [ 7.99  8.  ]\n",
            " [ 6.11  0.  ]\n",
            " [ 6.42  6.  ]\n",
            " [ 7.82  8.  ]\n",
            " [ 5.3   5.  ]\n",
            " [ 5.63  0.  ]\n",
            " [ 7.41  5.  ]\n",
            " [ 5.75 11.  ]\n",
            " [ 7.34 14.  ]\n",
            " [ 5.76  2.  ]\n",
            " [ 7.46  3.  ]\n",
            " [ 6.79  3.  ]\n",
            " [ 7.43  5.  ]\n",
            " [ 6.49  2.  ]\n",
            " [ 6.88  4.  ]\n",
            " [ 6.61  5.  ]\n",
            " [ 6.67  8.  ]\n",
            " [ 6.58  3.  ]\n",
            " [ 6.15  1.  ]\n",
            " [ 7.26  1.  ]\n",
            " [ 6.87  8.  ]\n",
            " [ 5.88 33.  ]\n",
            " [ 7.66 15.  ]\n",
            " [ 6.04  3.  ]\n",
            " [ 5.98  9.  ]\n",
            " [ 7.52  5.  ]\n",
            " [ 7.48 14.  ]\n",
            " [ 7.42  4.  ]\n",
            " [ 4.94  1.  ]\n",
            " [ 7.82  7.  ]\n",
            " [ 8.03  5.  ]\n",
            " [ 7.27  0.  ]\n",
            " [ 6.14 19.  ]\n",
            " [ 6.1   2.  ]\n",
            " [ 6.85 12.  ]\n",
            " [ 7.53  9.  ]\n",
            " [ 6.38  7.  ]\n",
            " [ 5.52 10.  ]\n",
            " [ 8.01  2.  ]\n",
            " [ 6.46  0.  ]\n",
            " [ 7.    1.  ]\n",
            " [ 6.39  8.  ]\n",
            " [ 7.35  7.  ]\n",
            " [ 5.65  1.  ]\n",
            " [ 5.66  5.  ]\n",
            " [ 5.46 12.  ]\n",
            " [ 6.03  6.  ]\n",
            " [ 5.93  3.  ]\n",
            " [ 5.16  5.  ]\n",
            " [ 7.52 12.  ]\n",
            " [ 5.73  1.  ]\n",
            " [ 5.76  9.  ]\n",
            " [ 7.37 19.  ]\n",
            " [ 6.76  0.  ]\n",
            " [ 6.1  12.  ]\n",
            " [ 7.12 14.  ]\n",
            " [ 7.58 15.  ]\n",
            " [ 7.95  0.  ]\n",
            " [ 6.82  0.  ]\n",
            " [ 6.76  2.  ]\n",
            " [ 6.31  1.  ]\n",
            " [ 7.55  5.  ]\n",
            " [ 7.54  8.  ]\n",
            " [ 5.2   1.  ]\n",
            " [ 6.06  3.  ]\n",
            " [ 5.    9.  ]\n",
            " [ 4.81  3.  ]\n",
            " [ 5.28  7.  ]\n",
            " [ 7.06  5.  ]\n",
            " [ 7.44  8.  ]\n",
            " [ 7.11  1.  ]\n",
            " [ 7.57 10.  ]\n",
            " [ 6.52 11.  ]\n",
            " [ 7.49  2.  ]\n",
            " [ 4.6   5.  ]\n",
            " [ 8.15 26.  ]\n",
            " [ 7.53  5.  ]\n",
            " [ 6.46 10.  ]\n",
            " [ 6.91  3.  ]\n",
            " [ 6.84 21.  ]\n",
            " [ 6.9   3.  ]\n",
            " [ 6.15 10.  ]\n",
            " [ 7.73  2.  ]\n",
            " [ 7.02  3.  ]\n",
            " [ 5.73  6.  ]\n",
            " [ 7.49 11.  ]\n",
            " [ 7.14  1.  ]\n",
            " [ 6.06  7.  ]\n",
            " [ 7.92  8.  ]\n",
            " [ 7.41  2.  ]\n",
            " [ 6.78  7.  ]\n",
            " [ 7.95 28.  ]\n",
            " [ 7.4  19.  ]\n",
            " [ 5.68  3.  ]\n",
            " [ 5.86  3.  ]\n",
            " [ 7.16  1.  ]\n",
            " [ 4.76  0.  ]\n",
            " [ 4.72 10.  ]\n",
            " [ 7.55  0.  ]\n",
            " [ 4.12 13.  ]\n",
            " [ 7.29  3.  ]\n",
            " [ 6.42 10.  ]\n",
            " [ 7.28 15.  ]\n",
            " [ 6.48  5.  ]\n",
            " [ 6.6   3.  ]\n",
            " [ 8.34  1.  ]\n",
            " [ 6.02 10.  ]\n",
            " [ 7.84  4.  ]\n",
            " [ 7.03  1.  ]\n",
            " [ 7.79 18.  ]\n",
            " [ 7.94 21.  ]\n",
            " [ 5.65  2.  ]\n",
            " [ 7.8   3.  ]\n",
            " [ 7.54  7.  ]\n",
            " [ 6.03  9.  ]\n",
            " [ 6.45  4.  ]\n",
            " [ 6.46  0.  ]\n",
            " [ 7.28 28.  ]\n",
            " [ 7.56  3.  ]\n",
            " [ 5.33  6.  ]\n",
            " [ 7.39 10.  ]\n",
            " [ 7.51  0.  ]\n",
            " [ 6.12  5.  ]\n",
            " [ 8.02  2.  ]\n",
            " [ 6.4   5.  ]\n",
            " [ 6.1   7.  ]\n",
            " [ 6.28  6.  ]\n",
            " [ 5.72  8.  ]\n",
            " [ 6.36  8.  ]\n",
            " [ 6.61  6.  ]\n",
            " [ 7.22  0.  ]\n",
            " [ 6.73  5.  ]\n",
            " [ 5.9   6.  ]\n",
            " [ 7.46  7.  ]\n",
            " [ 7.19  3.  ]\n",
            " [ 7.44  0.  ]\n",
            " [ 7.21 19.  ]\n",
            " [ 6.54  3.  ]\n",
            " [ 6.84  2.  ]\n",
            " [ 5.    6.  ]\n",
            " [ 7.66  5.  ]\n",
            " [ 8.38 18.  ]\n",
            " [ 6.74  2.  ]\n",
            " [ 6.03  3.  ]\n",
            " [ 6.46  7.  ]\n",
            " [ 7.39  7.  ]\n",
            " [ 6.26  2.  ]\n",
            " [ 4.41  3.  ]\n",
            " [ 7.42 10.  ]\n",
            " [ 7.17  1.  ]\n",
            " [ 7.85  1.  ]\n",
            " [ 6.93  4.  ]\n",
            " [ 5.31  5.  ]\n",
            " [ 5.14  9.  ]\n",
            " [ 7.54  3.  ]\n",
            " [ 7.31 11.  ]\n",
            " [ 6.57 10.  ]\n",
            " [ 7.1   3.  ]\n",
            " [ 6.43 13.  ]\n",
            " [ 7.48  6.  ]\n",
            " [ 8.02  1.  ]\n",
            " [ 7.2   1.  ]\n",
            " [ 5.68 25.  ]\n",
            " [ 6.32  2.  ]\n",
            " [ 5.82  3.  ]\n",
            " [ 7.43  3.  ]\n",
            " [ 6.94  2.  ]\n",
            " [ 7.56  3.  ]\n",
            " [ 4.95  7.  ]\n",
            " [ 6.73  9.  ]\n",
            " [ 5.43  0.  ]\n",
            " [ 7.54 14.  ]\n",
            " [ 7.85  3.  ]\n",
            " [ 6.62 12.  ]\n",
            " [ 7.19 10.  ]\n",
            " [ 7.88  3.  ]\n",
            " [ 6.2   8.  ]\n",
            " [ 7.43 12.  ]\n",
            " [ 8.24  5.  ]\n",
            " [ 7.71 27.  ]\n",
            " [ 4.6   1.  ]\n",
            " [ 5.76  9.  ]\n",
            " [ 5.8   1.  ]\n",
            " [ 6.73  3.  ]\n",
            " [ 7.64 10.  ]\n",
            " [ 7.73 19.  ]\n",
            " [ 7.26 10.  ]\n",
            " [ 4.57  7.  ]\n",
            " [ 6.9   3.  ]\n",
            " [ 6.54  1.  ]\n",
            " [ 6.76 14.  ]\n",
            " [ 5.97  9.  ]\n",
            " [ 6.45 33.  ]\n",
            " [ 7.81  0.  ]\n",
            " [ 6.19  4.  ]\n",
            " [ 5.31  3.  ]\n",
            " [ 7.11 12.  ]\n",
            " [ 8.   20.  ]\n",
            " [ 6.71  8.  ]\n",
            " [ 7.45  7.  ]\n",
            " [ 5.35  6.  ]\n",
            " [ 5.65  6.  ]\n",
            " [ 5.64  8.  ]\n",
            " [ 5.68 13.  ]\n",
            " [ 5.7  18.  ]\n",
            " [ 7.05 11.  ]\n",
            " [ 4.93 17.  ]\n",
            " [ 8.03  8.  ]\n",
            " [ 5.17 11.  ]\n",
            " [ 5.95  3.  ]\n",
            " [ 7.28  0.  ]\n",
            " [ 7.55  7.  ]\n",
            " [ 6.19  3.  ]\n",
            " [ 6.75  9.  ]\n",
            " [ 8.31  0.  ]\n",
            " [ 7.64  5.  ]\n",
            " [ 7.75  8.  ]\n",
            " [ 7.88  0.  ]\n",
            " [ 7.09 17.  ]\n",
            " [ 7.79 22.  ]\n",
            " [ 7.78  4.  ]\n",
            " [ 8.16  9.  ]\n",
            " [ 7.53  8.  ]\n",
            " [ 6.55  8.  ]\n",
            " [ 7.35  3.  ]\n",
            " [ 7.45  5.  ]\n",
            " [ 5.38 15.  ]\n",
            " [ 6.86  1.  ]\n",
            " [ 6.94  6.  ]\n",
            " [ 6.88 11.  ]\n",
            " [ 7.65 21.  ]\n",
            " [ 7.92  3.  ]\n",
            " [ 6.89  7.  ]\n",
            " [ 6.13 15.  ]\n",
            " [ 4.91  8.  ]\n",
            " [ 5.98  3.  ]\n",
            " [ 7.78  7.  ]\n",
            " [ 7.74  0.  ]\n",
            " [ 6.23  7.  ]\n",
            " [ 8.16  0.  ]\n",
            " [ 8.1   7.  ]\n",
            " [ 6.23  4.  ]\n",
            " [ 6.31  8.  ]\n",
            " [ 6.35  1.  ]\n",
            " [ 8.3   2.  ]\n",
            " [ 6.9   0.  ]\n",
            " [ 6.76  7.  ]\n",
            " [ 6.94  4.  ]\n",
            " [ 5.84  4.  ]\n",
            " [ 5.92 11.  ]\n",
            " [ 7.51 36.  ]\n",
            " [ 7.14  8.  ]\n",
            " [ 4.9   7.  ]\n",
            " [ 6.97  7.  ]\n",
            " [ 4.99  1.  ]\n",
            " [ 5.9   4.  ]\n",
            " [ 7.56  6.  ]\n",
            " [ 5.12 26.  ]\n",
            " [ 7.63  5.  ]\n",
            " [ 6.37  6.  ]\n",
            " [ 5.33 11.  ]\n",
            " [ 6.72  4.  ]\n",
            " [ 7.28 10.  ]\n",
            " [ 8.18 19.  ]\n",
            " [ 6.99  7.  ]\n",
            " [ 6.12 10.  ]\n",
            " [ 6.46  0.  ]\n",
            " [ 7.71  0.  ]\n",
            " [ 6.41 10.  ]\n",
            " [ 6.89 14.  ]\n",
            " [ 7.88 12.  ]\n",
            " [ 6.75 11.  ]\n",
            " [ 7.55  3.  ]\n",
            " [ 7.06 14.  ]\n",
            " [ 7.45  5.  ]\n",
            " [ 8.17  6.  ]\n",
            " [ 7.21 12.  ]\n",
            " [ 4.59  6.  ]\n",
            " [ 4.18 13.  ]\n",
            " [ 4.69  6.  ]\n",
            " [ 6.14 10.  ]\n",
            " [ 5.68  5.  ]\n",
            " [ 7.32  1.  ]\n",
            " [ 7.42  7.  ]\n",
            " [ 5.16  0.  ]\n",
            " [ 7.81  1.  ]\n",
            " [ 8.17  1.  ]\n",
            " [ 5.64 10.  ]\n",
            " [ 6.93  4.  ]\n",
            " [ 7.58  0.  ]\n",
            " [ 8.33  3.  ]\n",
            " [ 5.04  7.  ]\n",
            " [ 6.45  3.  ]\n",
            " [ 6.15  1.  ]\n",
            " [ 8.03 28.  ]\n",
            " [ 7.4   1.  ]\n",
            " [ 7.79  5.  ]\n",
            " [ 6.9   6.  ]\n",
            " [ 6.01 14.  ]\n",
            " [ 7.07  5.  ]\n",
            " [ 5.47  5.  ]\n",
            " [ 7.81  6.  ]\n",
            " [ 8.55  3.  ]\n",
            " [ 5.88  7.  ]\n",
            " [ 6.74 30.  ]\n",
            " [ 7.06  7.  ]\n",
            " [ 7.13 17.  ]\n",
            " [ 6.7   2.  ]\n",
            " [ 6.    0.  ]\n",
            " [ 7.07  3.  ]\n",
            " [ 6.15  7.  ]\n",
            " [ 6.68  0.  ]\n",
            " [ 6.64  1.  ]\n",
            " [ 6.05  8.  ]\n",
            " [ 5.73  1.  ]\n",
            " [ 6.25  2.  ]\n",
            " [ 6.93  5.  ]\n",
            " [ 6.1   2.  ]\n",
            " [ 6.11  7.  ]\n",
            " [ 5.35  8.  ]\n",
            " [ 7.16  5.  ]\n",
            " [ 5.47 14.  ]\n",
            " [ 7.15  3.  ]\n",
            " [ 5.47  3.  ]\n",
            " [ 4.45  1.  ]\n",
            " [ 7.69  3.  ]\n",
            " [ 6.25  2.  ]\n",
            " [ 4.58  8.  ]\n",
            " [ 6.32 13.  ]\n",
            " [ 7.71  4.  ]\n",
            " [ 7.69 29.  ]\n",
            " [ 6.49  3.  ]\n",
            " [ 5.39  1.  ]\n",
            " [ 7.58  9.  ]\n",
            " [ 7.4   0.  ]\n",
            " [ 7.57 10.  ]\n",
            " [ 6.64 14.  ]\n",
            " [ 5.73  2.  ]\n",
            " [ 5.91  1.  ]\n",
            " [ 6.79  3.  ]\n",
            " [ 7.82 30.  ]\n",
            " [ 6.41  7.  ]\n",
            " [ 5.87  9.  ]\n",
            " [ 7.53  3.  ]\n",
            " [ 4.85  1.  ]\n",
            " [ 7.72  1.  ]\n",
            " [ 5.59  2.  ]\n",
            " [ 6.38 10.  ]\n",
            " [ 3.67 10.  ]\n",
            " [ 8.07  4.  ]\n",
            " [ 7.83  4.  ]\n",
            " [ 7.42  2.  ]\n",
            " [ 5.94 17.  ]\n",
            " [ 7.66  6.  ]\n",
            " [ 6.01  2.  ]\n",
            " [ 5.53  0.  ]\n",
            " [ 7.39  5.  ]\n",
            " [ 6.66 10.  ]\n",
            " [ 5.18  9.  ]\n",
            " [ 7.87  0.  ]\n",
            " [ 6.13  3.  ]\n",
            " [ 7.75 12.  ]\n",
            " [ 7.05 21.  ]\n",
            " [ 8.48 18.  ]\n",
            " [ 7.19  9.  ]\n",
            " [ 6.79  6.  ]\n",
            " [ 7.4   8.  ]\n",
            " [ 4.7   2.  ]\n",
            " [ 6.91  5.  ]\n",
            " [ 5.51  7.  ]\n",
            " [ 7.2   3.  ]\n",
            " [ 8.04 13.  ]\n",
            " [ 5.14 12.  ]\n",
            " [ 6.57  0.  ]\n",
            " [ 5.09  9.  ]\n",
            " [ 6.23  6.  ]\n",
            " [ 5.53  2.  ]\n",
            " [ 6.4   9.  ]\n",
            " [ 7.12  7.  ]\n",
            " [ 5.87  7.  ]\n",
            " [ 5.9  10.  ]\n",
            " [ 6.11  6.  ]\n",
            " [ 7.46  5.  ]\n",
            " [ 6.18  0.  ]\n",
            " [ 7.36  8.  ]\n",
            " [ 7.48  4.  ]\n",
            " [ 5.2  10.  ]\n",
            " [ 5.03  4.  ]\n",
            " [ 7.41  9.  ]\n",
            " [ 6.91 22.  ]\n",
            " [ 7.43 10.  ]\n",
            " [ 7.22  8.  ]\n",
            " [ 7.73  0.  ]\n",
            " [ 4.62  0.  ]]\n"
          ]
        }
      ]
    },
    {
      "cell_type": "code",
      "source": [
        "from sklearn.metrics import mean_squared_error\n",
        "errors = mean_squared_error(y_test, y_pred)\n",
        "print(errors)"
      ],
      "metadata": {
        "colab": {
          "base_uri": "https://localhost:8080/"
        },
        "id": "QL10HHl1qCrj",
        "outputId": "d767cc17-1fe6-47b2-8641-713916f6132f"
      },
      "execution_count": 14,
      "outputs": [
        {
          "output_type": "stream",
          "name": "stdout",
          "text": [
            "40.17763518263893\n"
          ]
        }
      ]
    },
    {
      "cell_type": "code",
      "source": [
        ""
      ],
      "metadata": {
        "id": "42rurGjjqFu_"
      },
      "execution_count": null,
      "outputs": []
    }
  ]
}